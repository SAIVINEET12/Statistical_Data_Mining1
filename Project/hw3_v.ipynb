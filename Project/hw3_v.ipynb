{
 "cells": [
  {
   "cell_type": "code",
   "execution_count": 1,
   "metadata": {},
   "outputs": [],
   "source": [
    "import numpy as np\n",
    "import pandas as pd\n",
    "import matplotlib.pyplot as plt\n",
    "import seaborn as sns\n",
    "import random\n",
    "from sklearn.preprocessing import StandardScaler\n",
    "from sklearn.metrics import r2_score, accuracy_score\n",
    "from sklearn.model_selection import cross_val_score as cv\n",
    "# sns.set()"
   ]
  },
  {
   "cell_type": "code",
   "execution_count": 2,
   "metadata": {},
   "outputs": [],
   "source": [
    "import sklearn\n",
    "from sklearn.svm import SVR\n",
    "from sklearn.linear_model import LinearRegression, Lasso, Ridge, ElasticNet\n",
    "from sklearn.gaussian_process import GaussianProcessRegressor\n",
    "from sklearn.gaussian_process.kernels import RBF, ConstantKernel as C\n",
    "from sklearn.tree import DecisionTreeClassifier\n",
    "from sklearn.ensemble import RandomForestRegressor\n",
    "from sklearn.ensemble import RandomForestClassifier, GradientBoostingClassifier, BaggingClassifier\n",
    "\n",
    "np.random.seed(1)"
   ]
  },
  {
   "cell_type": "code",
   "execution_count": 3,
   "metadata": {},
   "outputs": [],
   "source": [
    "df_raw = pd.read_csv('HW2.csv')"
   ]
  },
  {
   "cell_type": "code",
   "execution_count": 4,
   "metadata": {},
   "outputs": [
    {
     "data": {
      "text/html": [
       "<div>\n",
       "<style scoped>\n",
       "    .dataframe tbody tr th:only-of-type {\n",
       "        vertical-align: middle;\n",
       "    }\n",
       "\n",
       "    .dataframe tbody tr th {\n",
       "        vertical-align: top;\n",
       "    }\n",
       "\n",
       "    .dataframe thead th {\n",
       "        text-align: right;\n",
       "    }\n",
       "</style>\n",
       "<table border=\"1\" class=\"dataframe\">\n",
       "  <thead>\n",
       "    <tr style=\"text-align: right;\">\n",
       "      <th></th>\n",
       "      <th>Property</th>\n",
       "      <th>Feature1</th>\n",
       "      <th>Feature2</th>\n",
       "      <th>Feature3</th>\n",
       "      <th>Feature4</th>\n",
       "      <th>Feature5</th>\n",
       "      <th>Feature6</th>\n",
       "      <th>Feature7</th>\n",
       "      <th>Feature8</th>\n",
       "    </tr>\n",
       "  </thead>\n",
       "  <tbody>\n",
       "    <tr>\n",
       "      <th>0</th>\n",
       "      <td>8.01</td>\n",
       "      <td>2.250000e-09</td>\n",
       "      <td>2.250000e-09</td>\n",
       "      <td>8.529104</td>\n",
       "      <td>2</td>\n",
       "      <td>580.953748</td>\n",
       "      <td>689.332068</td>\n",
       "      <td>30</td>\n",
       "      <td>0.192844</td>\n",
       "    </tr>\n",
       "    <tr>\n",
       "      <th>1</th>\n",
       "      <td>7.83</td>\n",
       "      <td>2.510000e-09</td>\n",
       "      <td>2.510000e-09</td>\n",
       "      <td>5.499223</td>\n",
       "      <td>3</td>\n",
       "      <td>634.183887</td>\n",
       "      <td>680.535947</td>\n",
       "      <td>50</td>\n",
       "      <td>0.382452</td>\n",
       "    </tr>\n",
       "    <tr>\n",
       "      <th>2</th>\n",
       "      <td>7.76</td>\n",
       "      <td>2.260000e-09</td>\n",
       "      <td>2.260000e-09</td>\n",
       "      <td>6.104465</td>\n",
       "      <td>1</td>\n",
       "      <td>624.897003</td>\n",
       "      <td>742.255910</td>\n",
       "      <td>40</td>\n",
       "      <td>0.759273</td>\n",
       "    </tr>\n",
       "    <tr>\n",
       "      <th>3</th>\n",
       "      <td>7.92</td>\n",
       "      <td>2.330000e-09</td>\n",
       "      <td>2.330000e-09</td>\n",
       "      <td>6.627918</td>\n",
       "      <td>2</td>\n",
       "      <td>622.276689</td>\n",
       "      <td>717.735512</td>\n",
       "      <td>40</td>\n",
       "      <td>0.801110</td>\n",
       "    </tr>\n",
       "    <tr>\n",
       "      <th>4</th>\n",
       "      <td>7.56</td>\n",
       "      <td>2.470000e-09</td>\n",
       "      <td>2.470000e-09</td>\n",
       "      <td>6.596712</td>\n",
       "      <td>4</td>\n",
       "      <td>647.172273</td>\n",
       "      <td>703.873167</td>\n",
       "      <td>50</td>\n",
       "      <td>0.614109</td>\n",
       "    </tr>\n",
       "  </tbody>\n",
       "</table>\n",
       "</div>"
      ],
      "text/plain": [
       "   Property      Feature1      Feature2  Feature3  Feature4    Feature5  \\\n",
       "0      8.01  2.250000e-09  2.250000e-09  8.529104         2  580.953748   \n",
       "1      7.83  2.510000e-09  2.510000e-09  5.499223         3  634.183887   \n",
       "2      7.76  2.260000e-09  2.260000e-09  6.104465         1  624.897003   \n",
       "3      7.92  2.330000e-09  2.330000e-09  6.627918         2  622.276689   \n",
       "4      7.56  2.470000e-09  2.470000e-09  6.596712         4  647.172273   \n",
       "\n",
       "     Feature6  Feature7  Feature8  \n",
       "0  689.332068        30  0.192844  \n",
       "1  680.535947        50  0.382452  \n",
       "2  742.255910        40  0.759273  \n",
       "3  717.735512        40  0.801110  \n",
       "4  703.873167        50  0.614109  "
      ]
     },
     "execution_count": 4,
     "metadata": {},
     "output_type": "execute_result"
    }
   ],
   "source": [
    "df_raw.head()"
   ]
  },
  {
   "cell_type": "code",
   "execution_count": 5,
   "metadata": {},
   "outputs": [
    {
     "data": {
      "text/html": [
       "<div>\n",
       "<style scoped>\n",
       "    .dataframe tbody tr th:only-of-type {\n",
       "        vertical-align: middle;\n",
       "    }\n",
       "\n",
       "    .dataframe tbody tr th {\n",
       "        vertical-align: top;\n",
       "    }\n",
       "\n",
       "    .dataframe thead th {\n",
       "        text-align: right;\n",
       "    }\n",
       "</style>\n",
       "<table border=\"1\" class=\"dataframe\">\n",
       "  <thead>\n",
       "    <tr style=\"text-align: right;\">\n",
       "      <th></th>\n",
       "      <th>Property</th>\n",
       "      <th>Feature1</th>\n",
       "      <th>Feature2</th>\n",
       "      <th>Feature3</th>\n",
       "      <th>Feature4</th>\n",
       "      <th>Feature5</th>\n",
       "      <th>Feature6</th>\n",
       "      <th>Feature7</th>\n",
       "      <th>Feature8</th>\n",
       "    </tr>\n",
       "  </thead>\n",
       "  <tbody>\n",
       "    <tr>\n",
       "      <th>count</th>\n",
       "      <td>100.000</td>\n",
       "      <td>100.0</td>\n",
       "      <td>100.0</td>\n",
       "      <td>100.000</td>\n",
       "      <td>100.000</td>\n",
       "      <td>100.000</td>\n",
       "      <td>100.000</td>\n",
       "      <td>100.000</td>\n",
       "      <td>100.000</td>\n",
       "    </tr>\n",
       "    <tr>\n",
       "      <th>mean</th>\n",
       "      <td>7.835</td>\n",
       "      <td>0.0</td>\n",
       "      <td>0.0</td>\n",
       "      <td>6.920</td>\n",
       "      <td>2.260</td>\n",
       "      <td>623.585</td>\n",
       "      <td>709.011</td>\n",
       "      <td>41.500</td>\n",
       "      <td>0.529</td>\n",
       "    </tr>\n",
       "    <tr>\n",
       "      <th>std</th>\n",
       "      <td>0.191</td>\n",
       "      <td>0.0</td>\n",
       "      <td>0.0</td>\n",
       "      <td>0.936</td>\n",
       "      <td>0.895</td>\n",
       "      <td>19.118</td>\n",
       "      <td>23.837</td>\n",
       "      <td>7.961</td>\n",
       "      <td>0.284</td>\n",
       "    </tr>\n",
       "    <tr>\n",
       "      <th>min</th>\n",
       "      <td>7.460</td>\n",
       "      <td>0.0</td>\n",
       "      <td>0.0</td>\n",
       "      <td>5.082</td>\n",
       "      <td>1.000</td>\n",
       "      <td>579.132</td>\n",
       "      <td>639.611</td>\n",
       "      <td>20.000</td>\n",
       "      <td>0.010</td>\n",
       "    </tr>\n",
       "    <tr>\n",
       "      <th>25%</th>\n",
       "      <td>7.690</td>\n",
       "      <td>0.0</td>\n",
       "      <td>0.0</td>\n",
       "      <td>6.262</td>\n",
       "      <td>2.000</td>\n",
       "      <td>609.910</td>\n",
       "      <td>694.554</td>\n",
       "      <td>40.000</td>\n",
       "      <td>0.295</td>\n",
       "    </tr>\n",
       "    <tr>\n",
       "      <th>50%</th>\n",
       "      <td>7.825</td>\n",
       "      <td>0.0</td>\n",
       "      <td>0.0</td>\n",
       "      <td>6.882</td>\n",
       "      <td>2.000</td>\n",
       "      <td>626.266</td>\n",
       "      <td>705.899</td>\n",
       "      <td>40.000</td>\n",
       "      <td>0.533</td>\n",
       "    </tr>\n",
       "    <tr>\n",
       "      <th>75%</th>\n",
       "      <td>7.962</td>\n",
       "      <td>0.0</td>\n",
       "      <td>0.0</td>\n",
       "      <td>7.538</td>\n",
       "      <td>3.000</td>\n",
       "      <td>636.619</td>\n",
       "      <td>720.718</td>\n",
       "      <td>50.000</td>\n",
       "      <td>0.799</td>\n",
       "    </tr>\n",
       "    <tr>\n",
       "      <th>max</th>\n",
       "      <td>8.480</td>\n",
       "      <td>0.0</td>\n",
       "      <td>0.0</td>\n",
       "      <td>8.939</td>\n",
       "      <td>4.000</td>\n",
       "      <td>662.884</td>\n",
       "      <td>779.113</td>\n",
       "      <td>50.000</td>\n",
       "      <td>0.985</td>\n",
       "    </tr>\n",
       "  </tbody>\n",
       "</table>\n",
       "</div>"
      ],
      "text/plain": [
       "       Property  Feature1  Feature2  Feature3  Feature4  Feature5  Feature6  \\\n",
       "count   100.000     100.0     100.0   100.000   100.000   100.000   100.000   \n",
       "mean      7.835       0.0       0.0     6.920     2.260   623.585   709.011   \n",
       "std       0.191       0.0       0.0     0.936     0.895    19.118    23.837   \n",
       "min       7.460       0.0       0.0     5.082     1.000   579.132   639.611   \n",
       "25%       7.690       0.0       0.0     6.262     2.000   609.910   694.554   \n",
       "50%       7.825       0.0       0.0     6.882     2.000   626.266   705.899   \n",
       "75%       7.962       0.0       0.0     7.538     3.000   636.619   720.718   \n",
       "max       8.480       0.0       0.0     8.939     4.000   662.884   779.113   \n",
       "\n",
       "       Feature7  Feature8  \n",
       "count   100.000   100.000  \n",
       "mean     41.500     0.529  \n",
       "std       7.961     0.284  \n",
       "min      20.000     0.010  \n",
       "25%      40.000     0.295  \n",
       "50%      40.000     0.533  \n",
       "75%      50.000     0.799  \n",
       "max      50.000     0.985  "
      ]
     },
     "execution_count": 5,
     "metadata": {},
     "output_type": "execute_result"
    }
   ],
   "source": [
    "df_raw.describe().round(3)"
   ]
  },
  {
   "cell_type": "code",
   "execution_count": 6,
   "metadata": {},
   "outputs": [
    {
     "data": {
      "text/plain": [
       "<matplotlib.axes._subplots.AxesSubplot at 0x2320825ff48>"
      ]
     },
     "execution_count": 6,
     "metadata": {},
     "output_type": "execute_result"
    },
    {
     "data": {
      "image/png": "[encoded data removed]",
      "text/plain": [
       "<Figure size 720x864 with 9 Axes>"
      ]
     },
     "metadata": {
      "needs_background": "light"
     },
     "output_type": "display_data"
    }
   ],
   "source": [
    "fig, ax = plt.subplots(3,3, figsize = (10,12))\n",
    "sns.distplot(df_raw.Property, ax = ax[0,0])\n",
    "sns.distplot(df_raw.Feature1, ax = ax[0,1])\n",
    "sns.distplot(df_raw.Feature2, ax = ax[0,2])\n",
    "sns.distplot(df_raw.Feature3, ax = ax[1,0])\n",
    "sns.distplot(df_raw.Feature4, ax = ax[1,1])\n",
    "sns.distplot(df_raw.Feature5, ax = ax[1,2])\n",
    "sns.distplot(df_raw.Feature6, ax = ax[2,0])\n",
    "sns.distplot(df_raw.Feature7, ax = ax[2,1])\n",
    "sns.distplot(df_raw.Feature8, ax = ax[2,2])"
   ]
  },
  {
   "cell_type": "code",
   "execution_count": 7,
   "metadata": {},
   "outputs": [
    {
     "data": {
      "text/plain": [
       "<matplotlib.axes._subplots.AxesSubplot at 0x232087c6788>"
      ]
     },
     "execution_count": 7,
     "metadata": {},
     "output_type": "execute_result"
    },
    {
     "data": {
      "image/png": "[encoded data removed]",
      "text/plain": [
       "<Figure size 432x288 with 2 Axes>"
      ]
     },
     "metadata": {
      "needs_background": "light"
     },
     "output_type": "display_data"
    }
   ],
   "source": [
    "sns.heatmap(df_raw.iloc[:,1:].corr())"
   ]
  },
  {
   "cell_type": "code",
   "execution_count": 8,
   "metadata": {},
   "outputs": [
    {
     "data": {
      "text/plain": [
       "count    100.000000\n",
       "mean       7.835000\n",
       "std        0.191488\n",
       "min        7.460000\n",
       "25%        7.690000\n",
       "50%        7.825000\n",
       "75%        7.962500\n",
       "max        8.480000\n",
       "Name: Property, dtype: float64"
      ]
     },
     "execution_count": 8,
     "metadata": {},
     "output_type": "execute_result"
    }
   ],
   "source": [
    "df_raw.Property.describe()"
   ]
  },
  {
   "cell_type": "code",
   "execution_count": 9,
   "metadata": {},
   "outputs": [],
   "source": [
    "test_idx = pd.Series(range(len(df_raw))).sample(int(len(df_raw)/4)).tolist()\n",
    "train_idx = [i for i in range(len(df_raw)) if i not in test_idx]"
   ]
  },
  {
   "cell_type": "code",
   "execution_count": 10,
   "metadata": {},
   "outputs": [],
   "source": [
    "X = df_raw.iloc[:,1:]\n",
    "X_test = X.iloc[test_idx]\n",
    "X_train = X.iloc[train_idx]\n",
    "\n",
    "scaler = StandardScaler()\n",
    "X_scaled_tr = scaler.fit_transform(X_train)\n",
    "X_scaled = StandardScaler().fit_transform(X)\n",
    "X_scaled_ts = scaler.transform(X_test)\n",
    "\n",
    "y_test = df_raw.iloc[test_idx,0].values\n",
    "y_train = df_raw.iloc[train_idx,0].values"
   ]
  },
  {
   "cell_type": "markdown",
   "metadata": {},
   "source": [
    "# Models"
   ]
  },
  {
   "cell_type": "markdown",
   "metadata": {},
   "source": [
    "### Linear Models"
   ]
  },
  {
   "cell_type": "code",
   "execution_count": 11,
   "metadata": {
    "scrolled": true
   },
   "outputs": [
    {
     "name": "stdout",
     "output_type": "stream",
     "text": [
      "0.0079785190635567 0.008059453241971635\n",
      "0.007645056024110238 0.006871294961252383\n",
      "0.829773900696106 0.7741332045767301\n"
     ]
    }
   ],
   "source": [
    "lnr_model = LinearRegression()\n",
    "lnr_model.fit(X=X_scaled_tr, y = y_train)\n",
    "preds_tr = lnr_model.predict(X_scaled_tr)\n",
    "preds_ts = lnr_model.predict(X_scaled_ts)\n",
    "print((abs(preds_tr - y_train)/y_train).mean(), (abs(preds_ts - y_test)/y_test).mean())\n",
    "print(np.median(abs(preds_tr - y_train)/y_train), np.median(abs(preds_ts - y_test)/y_test))\n",
    "print(r2_score(preds_tr,y_train), r2_score(preds_ts,y_test))"
   ]
  },
  {
   "cell_type": "code",
   "execution_count": 12,
   "metadata": {},
   "outputs": [
    {
     "name": "stdout",
     "output_type": "stream",
     "text": [
      "0.016639203476910783 0.013970505671488338\n",
      "0.014764472360074596 0.012542255318324083\n",
      "-9.946311198123453 -10.265760010458159\n"
     ]
    }
   ],
   "source": [
    "lasso_model = Lasso(alpha = 0.1)\n",
    "lasso_model.fit(X=X_scaled_tr, y = y_train)\n",
    "preds_tr = lasso_model.predict(X_scaled_tr)\n",
    "preds_ts = lasso_model.predict(X_scaled_ts)\n",
    "print((abs(preds_tr - y_train)/y_train).mean(), (abs(preds_ts - y_test)/y_test).mean())\n",
    "print(np.median(abs(preds_tr - y_train)/y_train), np.median(abs(preds_ts - y_test)/y_test))\n",
    "print(r2_score(preds_tr,y_train), r2_score(preds_ts,y_test))"
   ]
  },
  {
   "cell_type": "code",
   "execution_count": 13,
   "metadata": {},
   "outputs": [
    {
     "name": "stdout",
     "output_type": "stream",
     "text": [
      "0.008647963725330417 0.007874107671411959\n",
      "0.007678167363859573 0.005731236678325979\n",
      "0.7669224612549793 0.7509080161601478\n"
     ]
    }
   ],
   "source": [
    "lasso_model = Lasso(alpha = 0.01)\n",
    "lasso_model.fit(X=X_scaled_tr, y = y_train)\n",
    "preds_tr = lasso_model.predict(X_scaled_tr)\n",
    "preds_ts = lasso_model.predict(X_scaled_ts)\n",
    "print((abs(preds_tr - y_train)/y_train).mean(), (abs(preds_ts - y_test)/y_test).mean())\n",
    "print(np.median(abs(preds_tr - y_train)/y_train), np.median(abs(preds_ts - y_test)/y_test))\n",
    "print(r2_score(preds_tr,y_train), r2_score(preds_ts,y_test))"
   ]
  },
  {
   "cell_type": "code",
   "execution_count": 14,
   "metadata": {},
   "outputs": [
    {
     "name": "stdout",
     "output_type": "stream",
     "text": [
      "0.008064434706806685 0.007787942216785342\n",
      "0.007455461267203129 0.006639284771524423\n",
      "0.8250825741020521 0.7847983256329947\n"
     ]
    }
   ],
   "source": [
    "lasso_model = Lasso(alpha = 0.001)\n",
    "lasso_model.fit(X=X_scaled_tr, y = y_train)\n",
    "preds_tr = lasso_model.predict(X_scaled_tr)\n",
    "preds_ts = lasso_model.predict(X_scaled_ts)\n",
    "print((abs(preds_tr - y_train)/y_train).mean(), (abs(preds_ts - y_test)/y_test).mean())\n",
    "print(np.median(abs(preds_tr - y_train)/y_train), np.median(abs(preds_ts - y_test)/y_test))\n",
    "print(r2_score(preds_tr,y_train), r2_score(preds_ts,y_test))"
   ]
  },
  {
   "cell_type": "code",
   "execution_count": 15,
   "metadata": {},
   "outputs": [
    {
     "name": "stdout",
     "output_type": "stream",
     "text": [
      "0.008322399670769382 0.007875540845756139\n",
      "0.007865397622455394 0.00676471654703735\n",
      "0.7888050538558194 0.7539592243980251\n"
     ]
    }
   ],
   "source": [
    "EN_model = ElasticNet(alpha = 0.1, l1_ratio = 0.01)\n",
    "EN_model.fit(X=X_scaled_tr, y = y_train)\n",
    "preds_tr = EN_model.predict(X_scaled_tr)\n",
    "preds_ts = EN_model.predict(X_scaled_ts)\n",
    "print((abs(preds_tr - y_train)/y_train).mean(), (abs(preds_ts - y_test)/y_test).mean())\n",
    "print(np.median(abs(preds_tr - y_train)/y_train), np.median(abs(preds_ts - y_test)/y_test))\n",
    "print(r2_score(preds_tr,y_train), r2_score(preds_ts,y_test))"
   ]
  },
  {
   "cell_type": "code",
   "execution_count": 16,
   "metadata": {},
   "outputs": [
    {
     "name": "stdout",
     "output_type": "stream",
     "text": [
      "0.008117357096603555 0.007768899214306124\n",
      "0.007743765557876689 0.006635551989858338\n",
      "0.8201155556319999 0.7821767380218703\n"
     ]
    }
   ],
   "source": [
    "EN_model = ElasticNet(alpha = 0.01, l1_ratio = 0.15)\n",
    "EN_model.fit(X=X_scaled_tr, y = y_train)\n",
    "preds_tr = EN_model.predict(X_scaled_tr)\n",
    "preds_ts = EN_model.predict(X_scaled_ts)\n",
    "print((abs(preds_tr - y_train)/y_train).mean(), (abs(preds_ts - y_test)/y_test).mean())\n",
    "print(np.median(abs(preds_tr - y_train)/y_train), np.median(abs(preds_ts - y_test)/y_test))\n",
    "print(r2_score(preds_tr,y_train), r2_score(preds_ts,y_test))"
   ]
  },
  {
   "cell_type": "code",
   "execution_count": 17,
   "metadata": {},
   "outputs": [
    {
     "name": "stdout",
     "output_type": "stream",
     "text": [
      "0.008053663979076324 0.007809212206200561\n",
      "0.007265435729205551 0.00667235364102845\n",
      "0.8262369507643464 0.7847665144473303\n"
     ]
    }
   ],
   "source": [
    "EN_model = ElasticNet(alpha = 0.001, l1_ratio = 0.7)\n",
    "EN_model.fit(X=X_scaled_tr, y = y_train)\n",
    "preds_tr = EN_model.predict(X_scaled_tr)\n",
    "preds_ts = EN_model.predict(X_scaled_ts)\n",
    "print((abs(preds_tr - y_train)/y_train).mean(), (abs(preds_ts - y_test)/y_test).mean())\n",
    "print(np.median(abs(preds_tr - y_train)/y_train), np.median(abs(preds_ts - y_test)/y_test))\n",
    "print(r2_score(preds_tr,y_train), r2_score(preds_ts,y_test))"
   ]
  },
  {
   "cell_type": "code",
   "execution_count": 18,
   "metadata": {},
   "outputs": [
    {
     "name": "stdout",
     "output_type": "stream",
     "text": [
      "0.008019829423898462 0.00791885457299292\n",
      "0.007343572670551964 0.0066307427316991685\n",
      "0.8276980198928494 0.7794743454046094\n"
     ]
    }
   ],
   "source": [
    "Ridge_model = Ridge(alpha = .5)\n",
    "Ridge_model.fit(X=X_scaled_tr, y = y_train)\n",
    "preds_tr = Ridge_model.predict(X_scaled_tr)\n",
    "preds_ts = Ridge_model.predict(X_scaled_ts)\n",
    "print((abs(preds_tr - y_train)/y_train).mean(), (abs(preds_ts - y_test)/y_test).mean())\n",
    "print(np.median(abs(preds_tr - y_train)/y_train), np.median(abs(preds_ts - y_test)/y_test))\n",
    "print(r2_score(preds_tr,y_train), r2_score(preds_ts,y_test))"
   ]
  },
  {
   "cell_type": "code",
   "execution_count": 19,
   "metadata": {},
   "outputs": [
    {
     "name": "stdout",
     "output_type": "stream",
     "text": [
      "0.007991881537346297 0.007999441079802633\n",
      "0.00748587216627688 0.006818835828603209\n",
      "0.8294280218590195 0.7770606857102468\n"
     ]
    }
   ],
   "source": [
    "Ridge_model = Ridge(alpha = .075)\n",
    "Ridge_model.fit(X=X_scaled_tr, y = y_train)\n",
    "preds_tr = Ridge_model.predict(X_scaled_tr)\n",
    "preds_ts = Ridge_model.predict(X_scaled_ts)\n",
    "print((abs(preds_tr - y_train)/y_train).mean(), (abs(preds_ts - y_test)/y_test).mean())\n",
    "print(np.median(abs(preds_tr - y_train)/y_train), np.median(abs(preds_ts - y_test)/y_test))\n",
    "print(r2_score(preds_tr,y_train), r2_score(preds_ts,y_test))"
   ]
  },
  {
   "cell_type": "markdown",
   "metadata": {},
   "source": [
    "### Support Vector Machines"
   ]
  },
  {
   "cell_type": "code",
   "execution_count": 20,
   "metadata": {},
   "outputs": [
    {
     "name": "stdout",
     "output_type": "stream",
     "text": [
      "0.008255156961440847 0.007998473679921706\n",
      "0.008056384073889807 0.00597044670016705\n",
      "0.8220557166666507 0.7734261877414617\n"
     ]
    }
   ],
   "source": [
    "svr_model_lin = SVR(kernel = 'linear')\n",
    "svr_model_lin.fit(X = X_scaled_tr, y = y_train)\n",
    "preds_tr = svr_model_lin.predict(X_scaled_tr)\n",
    "preds_ts = svr_model_lin.predict(X_scaled_ts)\n",
    "print((abs(preds_tr - y_train)/y_train).mean(), (abs(preds_ts - y_test)/y_test).mean())\n",
    "print(np.median(abs(preds_tr - y_train)/y_train), np.median(abs(preds_ts - y_test)/y_test))\n",
    "print(r2_score(preds_tr,y_train), r2_score(preds_ts,y_test))"
   ]
  },
  {
   "cell_type": "code",
   "execution_count": 21,
   "metadata": {},
   "outputs": [
    {
     "name": "stdout",
     "output_type": "stream",
     "text": [
      "0.00798112466530462 0.007494564588441891\n",
      "0.008998481409319371 0.006619977399299047\n",
      "0.8254650328739557 0.7716148302869263\n"
     ]
    }
   ],
   "source": [
    "svr_model_rbf = SVR(kernel = 'rbf')\n",
    "svr_model_rbf.fit(X = X_scaled_tr, y = y_train)\n",
    "preds_tr = svr_model_rbf.predict(X_scaled_tr)\n",
    "preds_ts = svr_model_rbf.predict(X_scaled_ts)\n",
    "print((abs(preds_tr - y_train)/y_train).mean(), (abs(preds_ts - y_test)/y_test).mean())\n",
    "print(np.median(abs(preds_tr - y_train)/y_train), np.median(abs(preds_ts - y_test)/y_test))\n",
    "print(r2_score(preds_tr,y_train), r2_score(preds_ts,y_test))"
   ]
  },
  {
   "cell_type": "code",
   "execution_count": 22,
   "metadata": {},
   "outputs": [
    {
     "name": "stdout",
     "output_type": "stream",
     "text": [
      "0.009414943599181427 0.008544158843500621\n",
      "0.009097019037372575 0.008493314096167876\n",
      "0.5285517216074098 0.6030068152213346\n"
     ]
    }
   ],
   "source": [
    "svr_model_rbf = SVR(kernel = 'rbf', C = .1)\n",
    "svr_model_rbf.fit(X = X_scaled_tr, y = y_train)\n",
    "preds_tr = svr_model_rbf.predict(X_scaled_tr)\n",
    "preds_ts = svr_model_rbf.predict(X_scaled_ts)\n",
    "print((abs(preds_tr - y_train)/y_train).mean(), (abs(preds_ts - y_test)/y_test).mean())\n",
    "print(np.median(abs(preds_tr - y_train)/y_train), np.median(abs(preds_ts - y_test)/y_test))\n",
    "print(r2_score(preds_tr,y_train), r2_score(preds_ts,y_test))"
   ]
  },
  {
   "cell_type": "code",
   "execution_count": 23,
   "metadata": {},
   "outputs": [
    {
     "name": "stdout",
     "output_type": "stream",
     "text": [
      "0.009097430848171289 0.008620240269215129\n",
      "0.009377151250334585 0.007252730437979873\n",
      "0.801039661984502 0.5619248175623233\n"
     ]
    }
   ],
   "source": [
    "svr_model_poly = SVR(kernel = 'poly', degree=3)\n",
    "svr_model_poly.fit(X = X_scaled_tr, y = y_train)\n",
    "preds_tr = svr_model_poly.predict(X_scaled_tr)\n",
    "preds_ts = svr_model_poly.predict(X_scaled_ts)\n",
    "print((abs(preds_tr - y_train)/y_train).mean(), (abs(preds_ts - y_test)/y_test).mean())\n",
    "print(np.median(abs(preds_tr - y_train)/y_train), np.median(abs(preds_ts - y_test)/y_test))\n",
    "print(r2_score(preds_tr,y_train), r2_score(preds_ts,y_test))"
   ]
  },
  {
   "cell_type": "code",
   "execution_count": 24,
   "metadata": {},
   "outputs": [
    {
     "name": "stdout",
     "output_type": "stream",
     "text": [
      "0.012170395936760649 0.013360153144243951\n",
      "0.01269116341407191 0.011889242961470243\n",
      "0.4589510312320886 -0.5370268343285578\n"
     ]
    }
   ],
   "source": [
    "svr_model_poly = SVR(kernel = 'poly', degree=2)\n",
    "svr_model_poly.fit(X = X_scaled_tr, y = y_train)\n",
    "preds_tr = svr_model_poly.predict(X_scaled_tr)\n",
    "preds_ts = svr_model_poly.predict(X_scaled_ts)\n",
    "print((abs(preds_tr - y_train)/y_train).mean(), (abs(preds_ts - y_test)/y_test).mean())\n",
    "print(np.median(abs(preds_tr - y_train)/y_train), np.median(abs(preds_ts - y_test)/y_test))\n",
    "print(r2_score(preds_tr,y_train), r2_score(preds_ts,y_test))"
   ]
  },
  {
   "cell_type": "code",
   "execution_count": 25,
   "metadata": {},
   "outputs": [
    {
     "name": "stdout",
     "output_type": "stream",
     "text": [
      "0.011606930987151482 0.014115234479029676\n",
      "0.012445047659246158 0.011939309916365989\n",
      "0.6537665966646703 -2.510021787180498\n"
     ]
    }
   ],
   "source": [
    "svr_model_poly = SVR(kernel = 'poly', degree=4)\n",
    "svr_model_poly.fit(X = X_scaled_tr, y = y_train)\n",
    "preds_tr = svr_model_poly.predict(X_scaled_tr)\n",
    "preds_ts = svr_model_poly.predict(X_scaled_ts)\n",
    "print((abs(preds_tr - y_train)/y_train).mean(), (abs(preds_ts - y_test)/y_test).mean())\n",
    "print(np.median(abs(preds_tr - y_train)/y_train), np.median(abs(preds_ts - y_test)/y_test))\n",
    "print(r2_score(preds_tr,y_train), r2_score(preds_ts,y_test))"
   ]
  },
  {
   "cell_type": "code",
   "execution_count": 26,
   "metadata": {},
   "outputs": [
    {
     "name": "stdout",
     "output_type": "stream",
     "text": [
      "0.15633258854837875 0.16159077827000942\n",
      "0.11297110287732592 0.14913613077975207\n",
      "0.006431387206758177 -0.4284591391483019\n"
     ]
    }
   ],
   "source": [
    "svr_model_sigmoid = SVR(kernel = 'sigmoid')\n",
    "svr_model_sigmoid.fit(X = X_scaled_tr, y = y_train)\n",
    "preds_tr = svr_model_sigmoid.predict(X_scaled_tr)\n",
    "preds_ts = svr_model_sigmoid.predict(X_scaled_ts)\n",
    "print((abs(preds_tr - y_train)/y_train).mean(), (abs(preds_ts - y_test)/y_test).mean())\n",
    "print(np.median(abs(preds_tr - y_train)/y_train), np.median(abs(preds_ts - y_test)/y_test))\n",
    "print(r2_score(preds_tr,y_train), r2_score(preds_ts,y_test))"
   ]
  },
  {
   "cell_type": "markdown",
   "metadata": {},
   "source": [
    "### GPR"
   ]
  },
  {
   "cell_type": "code",
   "execution_count": 27,
   "metadata": {},
   "outputs": [
    {
     "name": "stdout",
     "output_type": "stream",
     "text": [
      "2.6914458779355795e-10 0.019477081748654975\n",
      "1.0343437506210872e-10 0.015814597059761983\n",
      "0.9999999999999997 0.4381948536939746\n"
     ]
    }
   ],
   "source": [
    "kernel = C(1.0, (1e-3, 1e3)) * RBF(10, (1e-2, 1e2))\n",
    "gp = GaussianProcessRegressor(kernel=kernel, n_restarts_optimizer=3)\n",
    "\n",
    "# Fit to data using Maximum Likelihood Estimation of the parameters\n",
    "gp.fit(X_scaled_tr, y_train)\n",
    "\n",
    "# Make the prediction on the meshed x-axis (ask for MSE as well)\n",
    "preds_ts, sigma_ts = gp.predict(X_scaled_ts, return_std=True)\n",
    "preds_tr, sigma_tr = gp.predict(X_scaled_tr, return_std=True)\n",
    "print((abs(preds_tr - y_train)/y_train).mean(), (abs(preds_ts - y_test)/y_test).mean())\n",
    "print(np.median(abs(preds_tr - y_train)/y_train), np.median(abs(preds_ts - y_test)/y_test))\n",
    "print(r2_score(preds_tr,y_train), r2_score(preds_ts,y_test))"
   ]
  },
  {
   "cell_type": "code",
   "execution_count": 28,
   "metadata": {},
   "outputs": [
    {
     "name": "stdout",
     "output_type": "stream",
     "text": [
      "4.982493971916129e-10 0.021913214730629686\n",
      "2.0316575282270627e-10 0.015662394457393935\n",
      "0.9999999999999989 -0.26026708159207645\n"
     ]
    }
   ],
   "source": [
    "kernel = RBF()\n",
    "gp = GaussianProcessRegressor(kernel=kernel)\n",
    "\n",
    "# Fit to data using Maximum Likelihood Estimation of the parameters\n",
    "gp.fit(X_scaled_tr, y_train)\n",
    "\n",
    "# Make the prediction on the meshed x-axis (ask for MSE as well)\n",
    "preds_ts, sigma_ts = gp.predict(X_scaled_ts, return_std=True)\n",
    "preds_tr, sigma_tr = gp.predict(X_scaled_tr, return_std=True)\n",
    "print((abs(preds_tr - y_train)/y_train).mean(), (abs(preds_ts - y_test)/y_test).mean())\n",
    "print(np.median(abs(preds_tr - y_train)/y_train), np.median(abs(preds_ts - y_test)/y_test))\n",
    "print(r2_score(preds_tr,y_train), r2_score(preds_ts,y_test))"
   ]
  },
  {
   "cell_type": "markdown",
   "metadata": {},
   "source": [
    "### Tree Based Models"
   ]
  },
  {
   "cell_type": "code",
   "execution_count": 29,
   "metadata": {},
   "outputs": [
    {
     "name": "stdout",
     "output_type": "stream",
     "text": [
      "0.0029395408858527445 0.006508375855799301\n",
      "0.0024250000000002325 0.005234474017743263\n",
      "0.9740482234039526 0.8060599615271367\n"
     ]
    }
   ],
   "source": [
    "rf = RandomForestRegressor()\n",
    "rf.fit(X = X_scaled_tr, y = y_train)\n",
    "preds_tr = rf.predict(X_scaled_tr)\n",
    "preds_ts = rf.predict(X_scaled_ts)\n",
    "print((abs(preds_tr - y_train)/y_train).mean(), (abs(preds_ts - y_test)/y_test).mean())\n",
    "print(np.median(abs(preds_tr - y_train)/y_train), np.median(abs(preds_ts - y_test)/y_test))\n",
    "print(r2_score(preds_tr,y_train), r2_score(preds_ts,y_test))"
   ]
  },
  {
   "cell_type": "code",
   "execution_count": 31,
   "metadata": {},
   "outputs": [
    {
     "data": {
      "text/plain": [
       "<BarContainer object of 8 artists>"
      ]
     },
     "execution_count": 31,
     "metadata": {},
     "output_type": "execute_result"
    },
    {
     "data": {
      "image/png": "[encoded data removed]",
      "text/plain": [
       "<Figure size 576x432 with 1 Axes>"
      ]
     },
     "metadata": {
      "needs_background": "light"
     },
     "output_type": "display_data"
    }
   ],
   "source": [
    "plt.figure(figsize=(8,6))\n",
    "plt.bar(x = df_raw.columns[1:],height=rf.feature_importances_)"
   ]
  },
  {
   "cell_type": "markdown",
   "metadata": {},
   "source": [
    "# Classification"
   ]
  },
  {
   "cell_type": "code",
   "execution_count": 33,
   "metadata": {},
   "outputs": [
    {
     "data": {
      "text/plain": [
       "count    100.000000\n",
       "mean       7.835000\n",
       "std        0.191488\n",
       "min        7.460000\n",
       "25%        7.690000\n",
       "50%        7.825000\n",
       "75%        7.962500\n",
       "max        8.480000\n",
       "Name: Property, dtype: float64"
      ]
     },
     "execution_count": 33,
     "metadata": {},
     "output_type": "execute_result"
    }
   ],
   "source": [
    "df_raw.Property.describe()"
   ]
  },
  {
   "cell_type": "code",
   "execution_count": 34,
   "metadata": {},
   "outputs": [
    {
     "data": {
      "text/plain": [
       "<matplotlib.axes._subplots.AxesSubplot at 0x23209615f08>"
      ]
     },
     "execution_count": 34,
     "metadata": {},
     "output_type": "execute_result"
    },
    {
     "data": {
      "image/png": "[encoded data removed]",
      "text/plain": [
       "<Figure size 432x288 with 1 Axes>"
      ]
     },
     "metadata": {
      "needs_background": "light"
     },
     "output_type": "display_data"
    }
   ],
   "source": [
    "sns.distplot(df_raw.Property)"
   ]
  },
  {
   "cell_type": "code",
   "execution_count": 35,
   "metadata": {},
   "outputs": [],
   "source": [
    "y_cat = (df_raw.Property > df_raw.Property.median()).astype(int)"
   ]
  },
  {
   "cell_type": "code",
   "execution_count": 36,
   "metadata": {},
   "outputs": [],
   "source": [
    "y_cat_tr = y_cat[train_idx]\n",
    "y_cat_ts = y_cat[test_idx]"
   ]
  },
  {
   "cell_type": "markdown",
   "metadata": {},
   "source": [
    "### Accuracy Score"
   ]
  },
  {
   "cell_type": "code",
   "execution_count": 37,
   "metadata": {},
   "outputs": [],
   "source": [
    "asc = sklearn.metrics.make_scorer(accuracy_score)"
   ]
  },
  {
   "cell_type": "markdown",
   "metadata": {},
   "source": [
    "### DecisionTree"
   ]
  },
  {
   "cell_type": "code",
   "execution_count": 38,
   "metadata": {},
   "outputs": [
    {
     "data": {
      "text/plain": [
       "0.8"
      ]
     },
     "execution_count": 38,
     "metadata": {},
     "output_type": "execute_result"
    }
   ],
   "source": [
    "dtc = DecisionTreeClassifier()\n",
    "dtc.fit(X_scaled_tr, y_cat_tr)\n",
    "accuracy_score(dtc.predict(X_scaled_ts), y_cat_ts)"
   ]
  },
  {
   "cell_type": "code",
   "execution_count": 39,
   "metadata": {},
   "outputs": [
    {
     "data": {
      "text/plain": [
       "0.72"
      ]
     },
     "execution_count": 39,
     "metadata": {},
     "output_type": "execute_result"
    }
   ],
   "source": [
    "dtc = DecisionTreeClassifier(max_depth = 3)\n",
    "dtc.fit(X_scaled_tr, y_cat_tr)\n",
    "accuracy_score(dtc.predict(X_scaled_ts), y_cat_ts)"
   ]
  },
  {
   "cell_type": "code",
   "execution_count": 40,
   "metadata": {},
   "outputs": [
    {
     "data": {
      "text/plain": [
       "0.84"
      ]
     },
     "execution_count": 40,
     "metadata": {},
     "output_type": "execute_result"
    }
   ],
   "source": [
    "dtc = DecisionTreeClassifier(max_depth = 5)\n",
    "dtc.fit(X_scaled_tr, y_cat_tr)\n",
    "accuracy_score(dtc.predict(X_scaled_ts), y_cat_ts)"
   ]
  },
  {
   "cell_type": "code",
   "execution_count": 41,
   "metadata": {},
   "outputs": [
    {
     "data": {
      "text/plain": [
       "0.84"
      ]
     },
     "execution_count": 41,
     "metadata": {},
     "output_type": "execute_result"
    }
   ],
   "source": [
    "dtc = DecisionTreeClassifier(max_depth = 5, min_samples_split = 3)\n",
    "dtc.fit(X_scaled_tr, y_cat_tr)\n",
    "accuracy_score(dtc.predict(X_scaled_ts), y_cat_ts)"
   ]
  },
  {
   "cell_type": "code",
   "execution_count": 42,
   "metadata": {},
   "outputs": [
    {
     "data": {
      "text/plain": [
       "0.8"
      ]
     },
     "execution_count": 42,
     "metadata": {},
     "output_type": "execute_result"
    }
   ],
   "source": [
    "dtc = DecisionTreeClassifier(max_depth = 5, min_samples_split = 5)\n",
    "dtc.fit(X_scaled_tr, y_cat_tr)\n",
    "accuracy_score(dtc.predict(X_scaled_ts), y_cat_ts)"
   ]
  },
  {
   "cell_type": "code",
   "execution_count": 43,
   "metadata": {},
   "outputs": [
    {
     "data": {
      "text/plain": [
       "0.84"
      ]
     },
     "execution_count": 43,
     "metadata": {},
     "output_type": "execute_result"
    }
   ],
   "source": [
    "dtc = DecisionTreeClassifier(max_depth = 5,\n",
    "                             min_samples_split = 5,\n",
    "                             min_samples_leaf=2)\n",
    "dtc.fit(X_scaled_tr, y_cat_tr)\n",
    "accuracy_score(dtc.predict(X_scaled_ts), y_cat_ts)"
   ]
  },
  {
   "cell_type": "code",
   "execution_count": 44,
   "metadata": {},
   "outputs": [
    {
     "data": {
      "text/plain": [
       "0.76"
      ]
     },
     "execution_count": 44,
     "metadata": {},
     "output_type": "execute_result"
    }
   ],
   "source": [
    "dtc = DecisionTreeClassifier(max_depth = 5,\n",
    "                             min_samples_split = 5,\n",
    "                             min_samples_leaf=6)\n",
    "dtc.fit(X_scaled_tr, y_cat_tr)\n",
    "accuracy_score(dtc.predict(X_scaled_ts), y_cat_ts)"
   ]
  },
  {
   "cell_type": "code",
   "execution_count": 45,
   "metadata": {},
   "outputs": [
    {
     "data": {
      "text/plain": [
       "0.68"
      ]
     },
     "execution_count": 45,
     "metadata": {},
     "output_type": "execute_result"
    }
   ],
   "source": [
    "dtc = DecisionTreeClassifier(max_depth = 5,\n",
    "                             min_samples_split = 5,\n",
    "                             min_samples_leaf=10)\n",
    "dtc.fit(X_scaled_tr, y_cat_tr)\n",
    "accuracy_score(dtc.predict(X_scaled_ts), y_cat_ts)"
   ]
  },
  {
   "cell_type": "markdown",
   "metadata": {},
   "source": [
    "### Random Forest"
   ]
  },
  {
   "cell_type": "code",
   "execution_count": 46,
   "metadata": {},
   "outputs": [
    {
     "data": {
      "text/plain": [
       "0.84"
      ]
     },
     "execution_count": 46,
     "metadata": {},
     "output_type": "execute_result"
    }
   ],
   "source": [
    "mdl = RandomForestClassifier()\n",
    "mdl.fit(X_scaled_tr, y_cat_tr)\n",
    "accuracy_score(mdl.predict(X_scaled_ts), y_cat_ts)"
   ]
  },
  {
   "cell_type": "code",
   "execution_count": 47,
   "metadata": {},
   "outputs": [
    {
     "ename": "SyntaxError",
     "evalue": "invalid syntax (<ipython-input-47-366a7b00b090>, line 1)",
     "output_type": "error",
     "traceback": [
      "\u001b[1;36m  File \u001b[1;32m\"<ipython-input-47-366a7b00b090>\"\u001b[1;36m, line \u001b[1;32m1\u001b[0m\n\u001b[1;33m    n_estimators max_features min_samples_leaf\u001b[0m\n\u001b[1;37m                            ^\u001b[0m\n\u001b[1;31mSyntaxError\u001b[0m\u001b[1;31m:\u001b[0m invalid syntax\n"
     ]
    }
   ],
   "source": [
    "n_estimators max_features min_samples_leaf"
   ]
  },
  {
   "cell_type": "code",
   "execution_count": 56,
   "metadata": {},
   "outputs": [
    {
     "data": {
      "text/plain": [
       "0.84"
      ]
     },
     "execution_count": 56,
     "metadata": {},
     "output_type": "execute_result"
    }
   ],
   "source": [
    "mdl = RandomForestClassifier(n_estimators=200)\n",
    "mdl.fit(X_scaled_tr, y_cat_tr)\n",
    "accuracy_score(mdl.predict(X_scaled_ts), y_cat_ts)"
   ]
  },
  {
   "cell_type": "code",
   "execution_count": 49,
   "metadata": {},
   "outputs": [
    {
     "data": {
      "text/plain": [
       "0.84"
      ]
     },
     "execution_count": 49,
     "metadata": {},
     "output_type": "execute_result"
    }
   ],
   "source": [
    "mdl = RandomForestClassifier(n_estimators=40)\n",
    "mdl.fit(X_scaled_tr, y_cat_tr)\n",
    "accuracy_score(mdl.predict(X_scaled_ts), y_cat_ts)"
   ]
  },
  {
   "cell_type": "code",
   "execution_count": 50,
   "metadata": {},
   "outputs": [
    {
     "data": {
      "text/plain": [
       "0.8"
      ]
     },
     "execution_count": 50,
     "metadata": {},
     "output_type": "execute_result"
    }
   ],
   "source": [
    "mdl = RandomForestClassifier(max_features = 2)\n",
    "mdl.fit(X_scaled_tr, y_cat_tr)\n",
    "accuracy_score(mdl.predict(X_scaled_ts), y_cat_ts)"
   ]
  },
  {
   "cell_type": "code",
   "execution_count": 51,
   "metadata": {},
   "outputs": [
    {
     "data": {
      "text/plain": [
       "0.84"
      ]
     },
     "execution_count": 51,
     "metadata": {},
     "output_type": "execute_result"
    }
   ],
   "source": [
    "mdl = RandomForestClassifier(max_features = 7)\n",
    "mdl.fit(X_scaled_tr, y_cat_tr)\n",
    "accuracy_score(mdl.predict(X_scaled_ts), y_cat_ts)"
   ]
  },
  {
   "cell_type": "code",
   "execution_count": 52,
   "metadata": {},
   "outputs": [
    {
     "data": {
      "text/plain": [
       "0.76"
      ]
     },
     "execution_count": 52,
     "metadata": {},
     "output_type": "execute_result"
    }
   ],
   "source": [
    "mdl = RandomForestClassifier(n_estimators=3, max_features=2)\n",
    "mdl.fit(X_scaled_tr, y_cat_tr)\n",
    "accuracy_score(mdl.predict(X_scaled_ts), y_cat_ts)"
   ]
  },
  {
   "cell_type": "code",
   "execution_count": 53,
   "metadata": {},
   "outputs": [
    {
     "data": {
      "text/plain": [
       "0.76"
      ]
     },
     "execution_count": 53,
     "metadata": {},
     "output_type": "execute_result"
    }
   ],
   "source": [
    "mdl = RandomForestClassifier(n_estimators=3,\n",
    "                             max_features=2,\n",
    "                             min_samples_leaf=3)\n",
    "mdl.fit(X_scaled_tr, y_cat_tr)\n",
    "accuracy_score(mdl.predict(X_scaled_ts), y_cat_ts)"
   ]
  },
  {
   "cell_type": "code",
   "execution_count": 54,
   "metadata": {},
   "outputs": [
    {
     "data": {
      "text/plain": [
       "0.84"
      ]
     },
     "execution_count": 54,
     "metadata": {},
     "output_type": "execute_result"
    }
   ],
   "source": [
    "mdl = RandomForestClassifier(n_estimators=3,\n",
    "                             max_features=2,\n",
    "                             min_samples_leaf=5)\n",
    "mdl.fit(X_scaled_tr, y_cat_tr)\n",
    "accuracy_score(mdl.predict(X_scaled_ts), y_cat_ts)"
   ]
  },
  {
   "cell_type": "code",
   "execution_count": 57,
   "metadata": {},
   "outputs": [
    {
     "data": {
      "text/plain": [
       "<BarContainer object of 8 artists>"
      ]
     },
     "execution_count": 57,
     "metadata": {},
     "output_type": "execute_result"
    },
    {
     "data": {
      "image/png": "[encoded data removed]",
      "text/plain": [
       "<Figure size 576x432 with 1 Axes>"
      ]
     },
     "metadata": {
      "needs_background": "light"
     },
     "output_type": "display_data"
    }
   ],
   "source": [
    "plt.figure(figsize=(8,6))\n",
    "plt.bar(x = df_raw.columns[1:],height=mdl.feature_importances_)\n"
   ]
  },
  {
   "cell_type": "markdown",
   "metadata": {},
   "source": [
    "### Boosting"
   ]
  },
  {
   "cell_type": "code",
   "execution_count": null,
   "metadata": {},
   "outputs": [],
   "source": []
  },
  {
   "cell_type": "code",
   "execution_count": 191,
   "metadata": {},
   "outputs": [
    {
     "data": {
      "text/plain": [
       "0.8"
      ]
     },
     "execution_count": 191,
     "metadata": {},
     "output_type": "execute_result"
    }
   ],
   "source": [
    "mdl = GradientBoostingClassifier()\n",
    "mdl.fit(X_scaled_tr, y_cat_tr)\n",
    "accuracy_score(mdl.predict(X_scaled_ts), y_cat_ts)"
   ]
  },
  {
   "cell_type": "code",
   "execution_count": null,
   "metadata": {},
   "outputs": [],
   "source": [
    "n_estimators max_features min_samples_leaf"
   ]
  },
  {
   "cell_type": "code",
   "execution_count": 192,
   "metadata": {},
   "outputs": [
    {
     "data": {
      "text/plain": [
       "0.8"
      ]
     },
     "execution_count": 192,
     "metadata": {},
     "output_type": "execute_result"
    }
   ],
   "source": [
    "mdl = GradientBoostingClassifier(n_estimators=200)\n",
    "mdl.fit(X_scaled_tr, y_cat_tr)\n",
    "accuracy_score(mdl.predict(X_scaled_ts), y_cat_ts)"
   ]
  },
  {
   "cell_type": "code",
   "execution_count": 193,
   "metadata": {},
   "outputs": [
    {
     "data": {
      "text/plain": [
       "0.84"
      ]
     },
     "execution_count": 193,
     "metadata": {},
     "output_type": "execute_result"
    }
   ],
   "source": [
    "mdl = GradientBoostingClassifier(n_estimators=40)\n",
    "mdl.fit(X_scaled_tr, y_cat_tr)\n",
    "accuracy_score(mdl.predict(X_scaled_ts), y_cat_ts)"
   ]
  },
  {
   "cell_type": "code",
   "execution_count": 194,
   "metadata": {},
   "outputs": [
    {
     "data": {
      "text/plain": [
       "0.84"
      ]
     },
     "execution_count": 194,
     "metadata": {},
     "output_type": "execute_result"
    }
   ],
   "source": [
    "mdl = GradientBoostingClassifier(max_features = 2)\n",
    "mdl.fit(X_scaled_tr, y_cat_tr)\n",
    "accuracy_score(mdl.predict(X_scaled_ts), y_cat_ts)"
   ]
  },
  {
   "cell_type": "code",
   "execution_count": 195,
   "metadata": {},
   "outputs": [
    {
     "data": {
      "text/plain": [
       "0.84"
      ]
     },
     "execution_count": 195,
     "metadata": {},
     "output_type": "execute_result"
    }
   ],
   "source": [
    "mdl = GradientBoostingClassifier(max_features = 7)\n",
    "mdl.fit(X_scaled_tr, y_cat_tr)\n",
    "accuracy_score(mdl.predict(X_scaled_ts), y_cat_ts)"
   ]
  },
  {
   "cell_type": "code",
   "execution_count": 196,
   "metadata": {},
   "outputs": [
    {
     "data": {
      "text/plain": [
       "0.8"
      ]
     },
     "execution_count": 196,
     "metadata": {},
     "output_type": "execute_result"
    }
   ],
   "source": [
    "mdl = GradientBoostingClassifier(n_estimators=3, max_features=2)\n",
    "mdl.fit(X_scaled_tr, y_cat_tr)\n",
    "accuracy_score(mdl.predict(X_scaled_ts), y_cat_ts)"
   ]
  },
  {
   "cell_type": "code",
   "execution_count": 197,
   "metadata": {},
   "outputs": [
    {
     "data": {
      "text/plain": [
       "0.8"
      ]
     },
     "execution_count": 197,
     "metadata": {},
     "output_type": "execute_result"
    }
   ],
   "source": [
    "mdl = GradientBoostingClassifier(n_estimators=3,\n",
    "                             max_features=2,\n",
    "                             min_samples_leaf=3)\n",
    "mdl.fit(X_scaled_tr, y_cat_tr)\n",
    "accuracy_score(mdl.predict(X_scaled_ts), y_cat_ts)"
   ]
  },
  {
   "cell_type": "code",
   "execution_count": 198,
   "metadata": {},
   "outputs": [
    {
     "data": {
      "text/plain": [
       "0.72"
      ]
     },
     "execution_count": 198,
     "metadata": {},
     "output_type": "execute_result"
    }
   ],
   "source": [
    "mdl = GradientBoostingClassifier(n_estimators=3,\n",
    "                             max_features=2,\n",
    "                             min_samples_leaf=5)\n",
    "mdl.fit(X_scaled_tr, y_cat_tr)\n",
    "accuracy_score(mdl.predict(X_scaled_ts), y_cat_ts)"
   ]
  },
  {
   "cell_type": "markdown",
   "metadata": {},
   "source": [
    "### Bagging"
   ]
  },
  {
   "cell_type": "code",
   "execution_count": null,
   "metadata": {},
   "outputs": [],
   "source": []
  },
  {
   "cell_type": "code",
   "execution_count": 204,
   "metadata": {},
   "outputs": [
    {
     "data": {
      "text/plain": [
       "0.84"
      ]
     },
     "execution_count": 204,
     "metadata": {},
     "output_type": "execute_result"
    }
   ],
   "source": [
    "mdl = BaggingClassifier()\n",
    "mdl.fit(X_scaled_tr, y_cat_tr)\n",
    "accuracy_score(mdl.predict(X_scaled_ts), y_cat_ts)"
   ]
  },
  {
   "cell_type": "code",
   "execution_count": 205,
   "metadata": {},
   "outputs": [],
   "source": [
    "# n_estimators max_features max_samples"
   ]
  },
  {
   "cell_type": "code",
   "execution_count": 206,
   "metadata": {},
   "outputs": [
    {
     "data": {
      "text/plain": [
       "0.84"
      ]
     },
     "execution_count": 206,
     "metadata": {},
     "output_type": "execute_result"
    }
   ],
   "source": [
    "mdl = BaggingClassifier(n_estimators=200)\n",
    "mdl.fit(X_scaled_tr, y_cat_tr)\n",
    "accuracy_score(mdl.predict(X_scaled_ts), y_cat_ts)"
   ]
  },
  {
   "cell_type": "code",
   "execution_count": 207,
   "metadata": {},
   "outputs": [
    {
     "data": {
      "text/plain": [
       "0.84"
      ]
     },
     "execution_count": 207,
     "metadata": {},
     "output_type": "execute_result"
    }
   ],
   "source": [
    "mdl = BaggingClassifier(n_estimators=40)\n",
    "mdl.fit(X_scaled_tr, y_cat_tr)\n",
    "accuracy_score(mdl.predict(X_scaled_ts), y_cat_ts)"
   ]
  },
  {
   "cell_type": "code",
   "execution_count": 208,
   "metadata": {},
   "outputs": [
    {
     "data": {
      "text/plain": [
       "0.72"
      ]
     },
     "execution_count": 208,
     "metadata": {},
     "output_type": "execute_result"
    }
   ],
   "source": [
    "mdl = BaggingClassifier(max_features = 2)\n",
    "mdl.fit(X_scaled_tr, y_cat_tr)\n",
    "accuracy_score(mdl.predict(X_scaled_ts), y_cat_ts)"
   ]
  },
  {
   "cell_type": "code",
   "execution_count": 209,
   "metadata": {},
   "outputs": [
    {
     "data": {
      "text/plain": [
       "0.8"
      ]
     },
     "execution_count": 209,
     "metadata": {},
     "output_type": "execute_result"
    }
   ],
   "source": [
    "mdl = BaggingClassifier(max_features = 7)\n",
    "mdl.fit(X_scaled_tr, y_cat_tr)\n",
    "accuracy_score(mdl.predict(X_scaled_ts), y_cat_ts)"
   ]
  },
  {
   "cell_type": "code",
   "execution_count": 210,
   "metadata": {},
   "outputs": [
    {
     "data": {
      "text/plain": [
       "0.8"
      ]
     },
     "execution_count": 210,
     "metadata": {},
     "output_type": "execute_result"
    }
   ],
   "source": [
    "mdl = BaggingClassifier(n_estimators=3, max_features=2)\n",
    "mdl.fit(X_scaled_tr, y_cat_tr)\n",
    "accuracy_score(mdl.predict(X_scaled_ts), y_cat_ts)"
   ]
  },
  {
   "cell_type": "code",
   "execution_count": 211,
   "metadata": {},
   "outputs": [
    {
     "data": {
      "text/plain": [
       "0.52"
      ]
     },
     "execution_count": 211,
     "metadata": {},
     "output_type": "execute_result"
    }
   ],
   "source": [
    "mdl = BaggingClassifier(n_estimators=3,\n",
    "                             max_features=2,\n",
    "                             max_samples=.333)\n",
    "mdl.fit(X_scaled_tr, y_cat_tr)\n",
    "accuracy_score(mdl.predict(X_scaled_ts), y_cat_ts)"
   ]
  },
  {
   "cell_type": "code",
   "execution_count": 212,
   "metadata": {},
   "outputs": [
    {
     "data": {
      "text/plain": [
       "0.76"
      ]
     },
     "execution_count": 212,
     "metadata": {},
     "output_type": "execute_result"
    }
   ],
   "source": [
    "mdl = BaggingClassifier(n_estimators=3,\n",
    "                             max_features=2,\n",
    "                             max_samples=.5)\n",
    "mdl.fit(X_scaled_tr, y_cat_tr)\n",
    "accuracy_score(mdl.predict(X_scaled_ts), y_cat_ts)"
   ]
  },
  {
   "cell_type": "code",
   "execution_count": null,
   "metadata": {},
   "outputs": [],
   "source": []
  },
  {
   "cell_type": "code",
   "execution_count": null,
   "metadata": {},
   "outputs": [],
   "source": []
  },
  {
   "cell_type": "code",
   "execution_count": null,
   "metadata": {},
   "outputs": [],
   "source": []
  },
  {
   "cell_type": "code",
   "execution_count": 200,
   "metadata": {},
   "outputs": [
    {
     "data": {
      "text/plain": [
       "0.84"
      ]
     },
     "execution_count": 200,
     "metadata": {},
     "output_type": "execute_result"
    }
   ],
   "source": [
    "mdl = BaggingClassifier()\n",
    "mdl.fit(X_scaled_tr, y_cat_tr)\n",
    "accuracy_score(mdl.predict(X_scaled_ts), y_cat_ts)"
   ]
  },
  {
   "cell_type": "code",
   "execution_count": 76,
   "metadata": {},
   "outputs": [
    {
     "data": {
      "text/plain": [
       "array([0.08664689, 0.10966213, 0.07495141, 0.14545604, 0.16673318,\n",
       "       0.25275189, 0.11366631, 0.05013216])"
      ]
     },
     "execution_count": 76,
     "metadata": {},
     "output_type": "execute_result"
    }
   ],
   "source": [
    "mdl.feature_importances_"
   ]
  },
  {
   "cell_type": "code",
   "execution_count": null,
   "metadata": {},
   "outputs": [],
   "source": [
    "n_estimators, min_samples_leaf, "
   ]
  }
 ],
 "metadata": {
  "kernelspec": {
   "display_name": "Python 3",
   "language": "python",
   "name": "python3"
  },
  "language_info": {
   "codemirror_mode": {
    "name": "ipython",
    "version": 3
   },
   "file_extension": ".py",
   "mimetype": "text/x-python",
   "name": "python",
   "nbconvert_exporter": "python",
   "pygments_lexer": "ipython3",
   "version": "3.7.5"
  }
 },
 "nbformat": 4,
 "nbformat_minor": 2
}
